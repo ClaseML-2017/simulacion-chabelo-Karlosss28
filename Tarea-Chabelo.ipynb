{
 "cells": [
  {
   "cell_type": "markdown",
   "metadata": {},
   "source": [
    "# Chabelo\n",
    "\n",
    "1. 3 doors, 1 is the winning door, 1 is chosen by the contestant\n",
    "2. Chabelo opens a door thar is not the winning door or the one chosen by the contestant\n",
    "3. The contestant chooses wheter to switch doors or not\n",
    "\n",
    "Create a simulation and compare the win rate if the contestant swithces doors or not\n",
    "\n",
    "import random as rand rand.randint(firstNumber, secondNumber) where firstNumber <= rand < secondNumber rand.choice(array)"
   ]
  },
  {
   "cell_type": "code",
   "execution_count": 1,
   "metadata": {
    "collapsed": true
   },
   "outputs": [],
   "source": [
    "from __future__ import division\n",
    "import random as rand"
   ]
  },
  {
   "cell_type": "code",
   "execution_count": 2,
   "metadata": {
    "collapsed": true
   },
   "outputs": [],
   "source": [
    "experiments = 10000"
   ]
  },
  {
   "cell_type": "code",
   "execution_count": 3,
   "metadata": {
    "collapsed": true
   },
   "outputs": [],
   "source": [
    "door_options = ['L','L','W']"
   ]
  },
  {
   "cell_type": "code",
   "execution_count": 4,
   "metadata": {
    "collapsed": true
   },
   "outputs": [],
   "source": [
    "# Create the simulations"
   ]
  },
  {
   "cell_type": "code",
   "execution_count": 5,
   "metadata": {
    "collapsed": true
   },
   "outputs": [],
   "source": [
    "simulations = [rand.sample(door_options, 3) for i in range (0,experiments)]"
   ]
  },
  {
   "cell_type": "code",
   "execution_count": 6,
   "metadata": {
    "collapsed": true
   },
   "outputs": [],
   "source": [
    "# Contestant choices"
   ]
  },
  {
   "cell_type": "code",
   "execution_count": 7,
   "metadata": {
    "collapsed": true
   },
   "outputs": [],
   "source": [
    "my_choices = [rand.randint(0,2) for i in range (0,experiments)]"
   ]
  },
  {
   "cell_type": "code",
   "execution_count": 8,
   "metadata": {
    "collapsed": true
   },
   "outputs": [],
   "source": [
    "# Chabelo choices"
   ]
  },
  {
   "cell_type": "code",
   "execution_count": 9,
   "metadata": {
    "collapsed": true
   },
   "outputs": [],
   "source": [
    "chabelo_choices = []\n",
    "for i in range (0,experiments):\n",
    "    for j in range (0,3):\n",
    "        if j!= my_choices[i] and simulations[i][j] == 'L':\n",
    "            chabelo_choices.append(j)\n",
    "            break"
   ]
  },
  {
   "cell_type": "code",
   "execution_count": 10,
   "metadata": {
    "collapsed": true
   },
   "outputs": [],
   "source": [
    "# Calculate winning frequencies with and without switch "
   ]
  },
  {
   "cell_type": "code",
   "execution_count": 11,
   "metadata": {
    "collapsed": true
   },
   "outputs": [],
   "source": [
    "total_unswitch, total_switch = 0,0\n",
    "for i in range (0, experiments):\n",
    "    if simulations[i][my_choices[i]] == 'W':\n",
    "        total_unswitch += 1\n",
    "    else:\n",
    "        total_switch += 1\n",
    "    "
   ]
  },
  {
   "cell_type": "code",
   "execution_count": 12,
   "metadata": {
    "collapsed": true
   },
   "outputs": [],
   "source": [
    "# Probabilities"
   ]
  },
  {
   "cell_type": "code",
   "execution_count": 13,
   "metadata": {},
   "outputs": [
    {
     "name": "stdout",
     "output_type": "stream",
     "text": [
      "Probabilities without switch: 0.3371\n",
      "Probabilities with switch: 0.6629\n"
     ]
    }
   ],
   "source": [
    "print \"Probabilities without switch: \" + str(total_unswitch/experiments)\n",
    "print \"Probabilities with switch: \" + str(total_switch/experiments)"
   ]
  },
  {
   "cell_type": "code",
   "execution_count": null,
   "metadata": {
    "collapsed": true
   },
   "outputs": [],
   "source": []
  }
 ],
 "metadata": {
  "kernelspec": {
   "display_name": "Python 2",
   "language": "python",
   "name": "python2"
  },
  "language_info": {
   "codemirror_mode": {
    "name": "ipython",
    "version": 2
   },
   "file_extension": ".py",
   "mimetype": "text/x-python",
   "name": "python",
   "nbconvert_exporter": "python",
   "pygments_lexer": "ipython2",
   "version": "2.7.10"
  }
 },
 "nbformat": 4,
 "nbformat_minor": 2
}
